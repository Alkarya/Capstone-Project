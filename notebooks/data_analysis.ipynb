{
 "cells": [
  {
   "cell_type": "markdown",
   "metadata": {},
   "source": [
    "# Capstone Project\n",
    "\n",
    "## Data analysis"
   ]
  },
  {
   "cell_type": "markdown",
   "metadata": {},
   "source": [
    "### Step 1 - import packages"
   ]
  },
  {
   "cell_type": "code",
   "execution_count": null,
   "metadata": {},
   "outputs": [],
   "source": [
    "import pandas as pa\n",
    "import numpy as np\n",
    "import psycopg2"
   ]
  },
  {
   "cell_type": "markdown",
   "metadata": {},
   "source": [
    "### Step 2 - Connect to Redshift"
   ]
  },
  {
   "cell_type": "code",
   "execution_count": null,
   "metadata": {},
   "outputs": [],
   "source": [
    "# Connecting to Redshift \n",
    "\n",
    "host = #<insert_host>\n",
    "port = #<insert_port>\n",
    "db_name = #<insert_name>\n",
    "username = #<insert_name>\n",
    "password = #<insert_password\n",
    "\n",
    "try:\n",
    "    print(\"Connecting to Redshift...\")\n",
    "    conn = psycopg2.connect(\n",
    "        dbname = db_name,\n",
    "        user = username,\n",
    "        password = password,\n",
    "        host = host,\n",
    "        port = port\n",
    "    )\n",
    "    \n",
    "    print(\"Connection successfull!\")\n",
    "    cursor = conn.cursor()\n",
    "except:\n",
    "    print(\"Unable to connect...\")"
   ]
  },
  {
   "cell_type": "markdown",
   "metadata": {},
   "source": [
    "### Step 3 -  Check Data"
   ]
  },
  {
   "cell_type": "code",
   "execution_count": null,
   "metadata": {},
   "outputs": [],
   "source": [
    "query = '''\n",
    "    SELECT count(*)\n",
    "    FROM public.fact_sales\n",
    "'''\n",
    "\n",
    "result = pandas.read_sql_query(query,conn)\n",
    "result.head(1)"
   ]
  },
  {
   "cell_type": "code",
   "execution_count": null,
   "metadata": {},
   "outputs": [],
   "source": [
    "query = '''\n",
    "    SELECT count(*)\n",
    "    FROM public.dim_date\n",
    "'''\n",
    "\n",
    "result = pandas.read_sql_query(query,conn)\n",
    "result.head(1)"
   ]
  },
  {
   "cell_type": "code",
   "execution_count": null,
   "metadata": {},
   "outputs": [],
   "source": [
    "query = '''\n",
    "    SELECT count(*)\n",
    "    FROM public.dim_customer\n",
    "'''\n",
    "\n",
    "result = pandas.read_sql_query(query,conn)\n",
    "result.head(1)"
   ]
  },
  {
   "cell_type": "code",
   "execution_count": null,
   "metadata": {},
   "outputs": [],
   "source": [
    "query = '''\n",
    "    SELECT count(*)\n",
    "    FROM public.dim_products\n",
    "'''\n",
    "\n",
    "result = pandas.read_sql_query(query,conn)\n",
    "result.head(1)"
   ]
  },
  {
   "cell_type": "code",
   "execution_count": null,
   "metadata": {},
   "outputs": [],
   "source": [
    "query = '''\n",
    "    SELECT count(*)\n",
    "    FROM public.dim_cities\n",
    "'''\n",
    "\n",
    "result = pandas.read_sql_query(query,conn)\n",
    "result.head(1)"
   ]
  },
  {
   "cell_type": "markdown",
   "metadata": {},
   "source": [
    "### Step 4 - Data Analysis"
   ]
  },
  {
   "cell_type": "code",
   "execution_count": null,
   "metadata": {},
   "outputs": [],
   "source": [
    "# Sales that occured on February with product and customer data\n",
    "\n",
    "query = '''\n",
    "    select a.sale_id, a.order_date, a.product_id, b.product_line\n",
    "    from public.fact_sales a\n",
    "    join public.dim_products b on a.product_id = b.product_id\n",
    "    join public.dim_date c on a.order_date = c.order_date\n",
    "    where c.month = '2' ;\n",
    "'''\n",
    "\n",
    "result = pandas.read_sql_query(query,conn)\n",
    "result.head(50)"
   ]
  },
  {
   "cell_type": "code",
   "execution_count": null,
   "metadata": {},
   "outputs": [],
   "source": [
    "# Number of customer in a city relative to the population\n",
    "\n",
    "query = '''\n",
    "    select count(distinct a.customer_id), b.population, b.city\n",
    "    from public.dim_cities b\n",
    "    join public.dim_customer a on b.city = a.city\n",
    "    group by 2, 3;\n",
    "'''\n",
    "\n",
    "result = pandas.read_sql_query(query,conn)\n",
    "result.head(200)"
   ]
  },
  {
   "cell_type": "markdown",
   "metadata": {},
   "source": [
    "### Step 5 - Close connection"
   ]
  },
  {
   "cell_type": "code",
   "execution_count": null,
   "metadata": {},
   "outputs": [],
   "source": [
    "conn.close()"
   ]
  }
 ],
 "metadata": {
  "language_info": {
   "name": "python"
  },
  "orig_nbformat": 4
 },
 "nbformat": 4,
 "nbformat_minor": 2
}
